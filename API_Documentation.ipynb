{
 "cells": [
  {
   "cell_type": "markdown",
   "id": "6f676752",
   "metadata": {},
   "source": [
    "# API Documentation - Interactive Testing\n",
    "\n",
    "This notebook provides interactive testing capabilities for the API endpoints. Run the setup cell first, then execute individual endpoint tests as needed."
   ]
  },
  {
   "cell_type": "code",
   "execution_count": null,
   "id": "b83899fc",
   "metadata": {},
   "outputs": [],
   "source": [
    "# Setup - Install required packages and import libraries\n",
    "import requests\n",
    "import json\n",
    "from datetime import datetime\n",
    "import os\n",
    "\n",
    "# Configuration\n",
    "BASE_URL = \"http://localhost:3000\"\n",
    "session_token = None  # Will be set after login\n",
    "\n",
    "def make_request(method, endpoint, data=None, cookies=None, params=None):\n",
    "    \"\"\"Helper function to make API requests\"\"\"\n",
    "    url = f\"{BASE_URL}{endpoint}\"\n",
    "    headers = {\"Content-Type\": \"application/json\"}\n",
    "    \n",
    "    try:\n",
    "        if method.upper() == \"GET\":\n",
    "            response = requests.get(url, headers=headers, cookies=cookies, params=params)\n",
    "        elif method.upper() == \"POST\":\n",
    "            response = requests.post(url, headers=headers, json=data, cookies=cookies)\n",
    "        \n",
    "        print(f\"\\n{method.upper()} {endpoint}\")\n",
    "        print(f\"Status Code: {response.status_code}\")\n",
    "        print(f\"Response: {json.dumps(response.json(), indent=2)}\")\n",
    "        \n",
    "        return response\n",
    "    except requests.exceptions.RequestException as e:\n",
    "        print(f\"Request failed: {e}\")\n",
    "        return None\n",
    "    except json.JSONDecodeError:\n",
    "        print(f\"Status Code: {response.status_code}\")\n",
    "        print(f\"Response: {response.text}\")\n",
    "        return response\n",
    "\n",
    "print(\"Setup complete! Ready to test API endpoints.\")"
   ]
  },
  {
   "cell_type": "markdown",
   "id": "9c2dc3a9",
   "metadata": {},
   "source": [
    "## Authentication Endpoints"
   ]
  },
  {
   "cell_type": "markdown",
   "id": "f3b278e0",
   "metadata": {},
   "source": [
    "### Register a New User"
   ]
  },
  {
   "cell_type": "code",
   "execution_count": null,
   "id": "c7c8958b",
   "metadata": {},
   "outputs": [],
   "source": [
    "# POST /api/auth/register\n",
    "register_data = {\n",
    "    \"email\": \"test@example.com\",\n",
    "    \"password\": \"testpassword123\",\n",
    "    \"name\": \"Test User\"\n",
    "}\n",
    "\n",
    "response = make_request(\"POST\", \"/api/auth/register\", data=register_data)\n",
    "\n",
    "# Store the token if registration successful\n",
    "if response and response.status_code == 200:\n",
    "    result = response.json()\n",
    "    if \"token\" in result:\n",
    "        session_token = result[\"token\"]\n",
    "        print(f\"\\nSession token stored: {session_token[:20]}...\")"
   ]
  },
  {
   "cell_type": "markdown",
   "id": "e412c7dc",
   "metadata": {},
   "source": [
    "### Login"
   ]
  },
  {
   "cell_type": "code",
   "execution_count": null,
   "id": "8513c62d",
   "metadata": {},
   "outputs": [],
   "source": [
    "# POST /api/auth/login\n",
    "login_data = {\n",
    "    \"email\": \"test@example.com\",\n",
    "    \"password\": \"testpassword123\"\n",
    "}\n",
    "\n",
    "response = make_request(\"POST\", \"/api/auth/login\", data=login_data)\n",
    "\n",
    "# Store the token if login successful\n",
    "if response and response.status_code == 200:\n",
    "    result = response.json()\n",
    "    if \"token\" in result:\n",
    "        session_token = result[\"token\"]\n",
    "        print(f\"\\nSession token updated: {session_token[:20]}...\")"
   ]
  },
  {
   "cell_type": "markdown",
   "id": "c298d7d8",
   "metadata": {},
   "source": [
    "### Get Current User Info"
   ]
  },
  {
   "cell_type": "code",
   "execution_count": null,
   "id": "77613cb0",
   "metadata": {},
   "outputs": [],
   "source": [
    "# GET /api/auth/me\n",
    "if session_token:\n",
    "    cookies = {\"session-token\": session_token}\n",
    "    make_request(\"GET\", \"/api/auth/me\", cookies=cookies)\n",
    "else:\n",
    "    print(\"No session token available. Please login first.\")"
   ]
  },
  {
   "cell_type": "markdown",
   "id": "bf142ed4",
   "metadata": {},
   "source": [
    "### Logout"
   ]
  },
  {
   "cell_type": "code",
   "execution_count": null,
   "id": "9c8d6257",
   "metadata": {},
   "outputs": [],
   "source": [
    "# POST /api/auth/logout\n",
    "if session_token:\n",
    "    cookies = {\"session-token\": session_token}\n",
    "    response = make_request(\"POST\", \"/api/auth/logout\", cookies=cookies)\n",
    "    \n",
    "    if response and response.status_code == 200:\n",
    "        session_token = None\n",
    "        print(\"\\nSession token cleared.\")\n",
    "else:\n",
    "    print(\"No session token available.\")"
   ]
  },
  {
   "cell_type": "markdown",
   "id": "21d029ad",
   "metadata": {},
   "source": [
    "## Lead Management Endpoints"
   ]
  },
  {
   "cell_type": "markdown",
   "id": "94493464",
   "metadata": {},
   "source": [
    "### Enrich Company Data"
   ]
  },
  {
   "cell_type": "code",
   "execution_count": null,
   "id": "c0aa729d",
   "metadata": {},
   "outputs": [],
   "source": [
    "# POST /api/leads/enrich\n",
    "enrich_data = {\n",
    "    \"company\": \"Anthropic\",\n",
    "    \"website\": \"anthropic.com\"\n",
    "}\n",
    "\n",
    "make_request(\"POST\", \"/api/leads/enrich\", data=enrich_data)"
   ]
  },
  {
   "cell_type": "markdown",
   "id": "0ca1763e",
   "metadata": {},
   "source": [
    "### Score a Lead"
   ]
  },
  {
   "cell_type": "code",
   "execution_count": null,
   "id": "a06cdfd6",
   "metadata": {},
   "outputs": [],
   "source": [
    "# POST /api/leads/score\n",
    "score_data = {\n",
    "    \"leadId\": \"lead_123\",\n",
    "    \"industry\": \"AI/ML\",\n",
    "    \"company\": \"Anthropic\",\n",
    "    \"employees\": 500,\n",
    "    \"revenue\": 100000000\n",
    "}\n",
    "\n",
    "make_request(\"POST\", \"/api/leads/score\", data=score_data)"
   ]
  },
  {
   "cell_type": "markdown",
   "id": "1cc2b024",
   "metadata": {},
   "source": [
    "### Get Leads (Authenticated)"
   ]
  },
  {
   "cell_type": "code",
   "execution_count": null,
   "id": "d299afbb",
   "metadata": {},
   "outputs": [],
   "source": [
    "# GET /api/leads\n",
    "if session_token:\n",
    "    cookies = {\"session-token\": session_token}\n",
    "    params = {\n",
    "        \"page\": 1,\n",
    "        \"limit\": 10,\n",
    "        \"industry\": \"SaaS\"\n",
    "    }\n",
    "    make_request(\"GET\", \"/api/leads\", cookies=cookies, params=params)\n",
    "else:\n",
    "    print(\"Authentication required. Please login first.\")"
   ]
  },
  {
   "cell_type": "markdown",
   "id": "e8a74f4c",
   "metadata": {},
   "source": [
    "### Scrape Leads"
   ]
  },
  {
   "cell_type": "code",
   "execution_count": null,
   "id": "d9365577",
   "metadata": {},
   "outputs": [],
   "source": [
    "# POST /api/leads\n",
    "scrape_data = {\n",
    "    \"searchParams\": {\n",
    "        \"industry\": \"Technology\",\n",
    "        \"location\": \"San Francisco\",\n",
    "        \"companySize\": \"50-200\"\n",
    "    }\n",
    "}\n",
    "\n",
    "make_request(\"POST\", \"/api/leads\", data=scrape_data)"
   ]
  },
  {
   "cell_type": "markdown",
   "id": "f7c389fe",
   "metadata": {},
   "source": [
    "## Analytics Endpoints"
   ]
  },
  {
   "cell_type": "markdown",
   "id": "1b19ef71",
   "metadata": {},
   "source": [
    "### Get Real-time Analytics"
   ]
  },
  {
   "cell_type": "code",
   "execution_count": null,
   "id": "aff8c724",
   "metadata": {},
   "outputs": [],
   "source": [
    "# GET /api/analytics/realtime\n",
    "if session_token:\n",
    "    cookies = {\"session-token\": session_token}\n",
    "    params = {\"timeRange\": \"24h\"}\n",
    "    make_request(\"GET\", \"/api/analytics/realtime\", cookies=cookies, params=params)\n",
    "else:\n",
    "    print(\"Authentication required. Please login first.\")"
   ]
  },
  {
   "cell_type": "markdown",
   "id": "f2bbb2cb",
   "metadata": {},
   "source": [
    "## Admin Endpoints (Requires Admin Role)"
   ]
  },
  {
   "cell_type": "markdown",
   "id": "039e68f8",
   "metadata": {},
   "source": [
    "### Get All Users"
   ]
  },
  {
   "cell_type": "code",
   "execution_count": null,
   "id": "8a4c567d",
   "metadata": {},
   "outputs": [],
   "source": [
    "# GET /api/admin/users\n",
    "if session_token:\n",
    "    cookies = {\"session-token\": session_token}\n",
    "    make_request(\"GET\", \"/api/admin/users\", cookies=cookies)\n",
    "else:\n",
    "    print(\"Authentication required. Please login first.\")"
   ]
  },
  {
   "cell_type": "markdown",
   "id": "8889802e",
   "metadata": {},
   "source": [
    "### Create New User (Admin)"
   ]
  },
  {
   "cell_type": "code",
   "execution_count": null,
   "id": "91958799",
   "metadata": {},
   "outputs": [],
   "source": [
    "# POST /api/admin/users\n",
    "if session_token:\n",
    "    cookies = {\"session-token\": session_token}\n",
    "    new_user_data = {\n",
    "        \"email\": \"newuser@example.com\",\n",
    "        \"password\": \"password123\",\n",
    "        \"name\": \"New User\",\n",
    "        \"role\": \"user\"\n",
    "    }\n",
    "    make_request(\"POST\", \"/api/admin/users\", data=new_user_data, cookies=cookies)\n",
    "else:\n",
    "    print(\"Authentication required. Please login first.\")"
   ]
  },
  {
   "cell_type": "markdown",
   "id": "58ce9d92",
   "metadata": {},
   "source": [
    "## Enrichment Endpoints"
   ]
  },
  {
   "cell_type": "markdown",
   "id": "86a18f6c",
   "metadata": {},
   "source": [
    "### General Enrichment"
   ]
  },
  {
   "cell_type": "code",
   "execution_count": null,
   "id": "05fed81c",
   "metadata": {},
   "outputs": [],
   "source": [
    "# POST /api/enrichment\n",
    "enrichment_data = {\n",
    "    \"company\": \"OpenAI\",\n",
    "    \"website\": \"openai.com\"\n",
    "}\n",
    "\n",
    "make_request(\"POST\", \"/api/enrichment\", data=enrichment_data)"
   ]
  },
  {
   "cell_type": "markdown",
   "id": "6be6273a",
   "metadata": {},
   "source": [
    "## Utility Functions"
   ]
  },
  {
   "cell_type": "code",
   "execution_count": null,
   "id": "11f89236",
   "metadata": {},
   "outputs": [],
   "source": [
    "# Utility functions for testing\n",
    "\n",
    "def test_all_auth_endpoints():\n",
    "    \"\"\"Test all authentication endpoints in sequence\"\"\"\n",
    "    global session_token\n",
    "    \n",
    "    print(\"=== Testing Authentication Flow ===\")\n",
    "    \n",
    "    # Register\n",
    "    register_data = {\n",
    "        \"email\": f\"testuser_{datetime.now().strftime('%Y%m%d_%H%M%S')}@example.com\",\n",
    "        \"password\": \"testpassword123\",\n",
    "        \"name\": \"Test User\"\n",
    "    }\n",
    "    \n",
    "    response = make_request(\"POST\", \"/api/auth/register\", data=register_data)\n",
    "    if response and response.status_code == 200:\n",
    "        result = response.json()\n",
    "        if \"token\" in result:\n",
    "            session_token = result[\"token\"]\n",
    "    \n",
    "    # Get user info\n",
    "    if session_token:\n",
    "        cookies = {\"session-token\": session_token}\n",
    "        make_request(\"GET\", \"/api/auth/me\", cookies=cookies)\n",
    "    \n",
    "    print(\"\\n=== Authentication Flow Complete ===\")\n",
    "\n",
    "def test_all_lead_endpoints():\n",
    "    \"\"\"Test all lead management endpoints\"\"\"\n",
    "    print(\"\\n=== Testing Lead Management Endpoints ===\")\n",
    "    \n",
    "    # Enrich\n",
    "    enrich_data = {\"company\": \"Stripe\", \"website\": \"stripe.com\"}\n",
    "    make_request(\"POST\", \"/api/leads/enrich\", data=enrich_data)\n",
    "    \n",
    "    # Score\n",
    "    score_data = {\"leadId\": \"lead_456\", \"industry\": \"FinTech\"}\n",
    "    make_request(\"POST\", \"/api/leads/score\", data=score_data)\n",
    "    \n",
    "    print(\"\\n=== Lead Management Testing Complete ===\")\n",
    "\n",
    "# Run quick test\n",
    "def quick_test():\n",
    "    \"\"\"Run a quick test of key endpoints\"\"\"\n",
    "    test_all_auth_endpoints()\n",
    "    test_all_lead_endpoints()\n",
    "\n",
    "print(\"Utility functions loaded. Use quick_test() to run a comprehensive test.\")"
   ]
  },
  {
   "cell_type": "markdown",
   "id": "b1b0061c",
   "metadata": {},
   "source": [
    "## WebSocket Testing"
   ]
  },
  {
   "cell_type": "code",
   "execution_count": null,
   "id": "58c36a35",
   "metadata": {},
   "outputs": [],
   "source": [
    "# WebSocket connection testing\n",
    "# Note: This requires additional libraries for WebSocket testing\n",
    "try:\n",
    "    import websocket\n",
    "    import threading\n",
    "    \n",
    "    def on_message(ws, message):\n",
    "        print(f\"WebSocket message received: {message}\")\n",
    "    \n",
    "    def on_error(ws, error):\n",
    "        print(f\"WebSocket error: {error}\")\n",
    "    \n",
    "    def on_close(ws, close_status_code, close_msg):\n",
    "        print(\"WebSocket connection closed\")\n",
    "    \n",
    "    def on_open(ws):\n",
    "        print(\"WebSocket connection opened\")\n",
    "        # Send a test message\n",
    "        ws.send(\"Hello WebSocket!\")\n",
    "    \n",
    "    def test_websocket():\n",
    "        if session_token:\n",
    "            ws_url = f\"ws://localhost:3000/api/websocket\"\n",
    "            headers = {\"Cookie\": f\"session-token={session_token}\"}\n",
    "            \n",
    "            ws = websocket.WebSocketApp(ws_url,\n",
    "                                      on_open=on_open,\n",
    "                                      on_message=on_message,\n",
    "                                      on_error=on_error,\n",
    "                                      on_close=on_close,\n",
    "                                      header=headers)\n",
    "            \n",
    "            # Run in a separate thread\n",
    "            ws_thread = threading.Thread(target=ws.run_forever)\n",
    "            ws_thread.daemon = True\n",
    "            ws_thread.start()\n",
    "            \n",
    "            print(\"WebSocket test started. Check console for messages.\")\n",
    "            return ws\n",
    "        else:\n",
    "            print(\"Authentication required for WebSocket connection.\")\n",
    "    \n",
    "    print(\"WebSocket testing functions loaded. Use test_websocket() to test.\")\n",
    "    \n",
    "except ImportError:\n",
    "    print(\"websocket-client not installed. Install with: pip install websocket-client\")\n",
    "    \n",
    "    def test_websocket():\n",
    "        print(\"WebSocket testing requires 'websocket-client' package.\")\n",
    "        print(\"Install with: pip install websocket-client\")"
   ]
  },
  {
   "cell_type": "markdown",
   "id": "703148f6",
   "metadata": {},
   "source": [
    "## Status Check"
   ]
  },
  {
   "cell_type": "code",
   "execution_count": null,
   "id": "2a70eb67",
   "metadata": {},
   "outputs": [],
   "source": [
    "# Check current session status\n",
    "print(f\"Base URL: {BASE_URL}\")\n",
    "print(f\"Session Token: {'Set' if session_token else 'Not set'}\")\n",
    "if session_token:\n",
    "    print(f\"Token preview: {session_token[:20]}...\")\n",
    "\n",
    "# Test server connectivity\n",
    "try:\n",
    "    response = requests.get(f\"{BASE_URL}/api/auth/me\")\n",
    "    print(f\"\\nServer connectivity: OK (Status: {response.status_code})\")\n",
    "except requests.exceptions.RequestException as e:\n",
    "    print(f\"\\nServer connectivity: FAILED - {e}\")\n",
    "    print(\"Make sure your API server is running on localhost:3000\")"
   ]
  }
 ],
 "metadata": {
  "kernelspec": {
   "display_name": "Python 3",
   "language": "python",
   "name": "python3"
  },
  "language_info": {
   "codemirror_mode": {
    "name": "ipython",
    "version": 3
   },
   "file_extension": ".py",
   "mimetype": "text/x-python",
   "name": "python",
   "nbconvert_exporter": "python",
   "pygments_lexer": "ipython3",
   "version": "3.8.0"
  }
 },
 "nbformat": 4,
 "nbformat_minor": 5
}
